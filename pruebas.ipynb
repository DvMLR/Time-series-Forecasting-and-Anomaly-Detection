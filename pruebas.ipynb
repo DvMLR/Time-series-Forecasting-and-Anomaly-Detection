{
 "cells": [
  {
   "cell_type": "code",
   "execution_count": 2,
   "metadata": {},
   "outputs": [],
   "source": [
    "import sys\n",
    "import matplotlib.pyplot as plt\n",
    "from GUI import*\n",
    "from PyQt5 import QtCore\n",
    "from matplotlib.backends.backend_qt5agg import FigureCanvasQTAgg as FigureCanvas\n",
    "import pandas as pd\n",
    "import matplotlib.colors as mcolors\n",
    "import numpy as np\n"
   ]
  },
  {
   "cell_type": "code",
   "execution_count": 4,
   "metadata": {},
   "outputs": [
    {
     "ename": "FileNotFoundError",
     "evalue": "[Errno 2] No such file or directory: './results/informer_custom_ftM_sl96_ll48_pl24_dm512_nh8_el2_dl1_df2048_atprob_fc5_ebtimeF_dtTrue_mxTrue_test_0/entradas.npy'",
     "output_type": "error",
     "traceback": [
      "\u001b[1;31m---------------------------------------------------------------------------\u001b[0m",
      "\u001b[1;31mFileNotFoundError\u001b[0m                         Traceback (most recent call last)",
      "\u001b[1;32mc:\\Users\\vi_mo\\OneDrive\\Escritorio\\Transformer\\Informer2020\\pruebas.ipynb Celda 2\u001b[0m in \u001b[0;36m<cell line: 2>\u001b[1;34m()\u001b[0m\n\u001b[0;32m      <a href='vscode-notebook-cell:/c%3A/Users/vi_mo/OneDrive/Escritorio/Transformer/Informer2020/pruebas.ipynb#W1sZmlsZQ%3D%3D?line=0'>1</a>\u001b[0m setting \u001b[39m=\u001b[39m \u001b[39m'\u001b[39m\u001b[39minformer_custom_ftM_sl96_ll48_pl24_dm512_nh8_el2_dl1_df2048_atprob_fc5_ebtimeF_dtTrue_mxTrue_test_0\u001b[39m\u001b[39m'\u001b[39m \u001b[39m#Nombre del experimento que contiene resultados y el mejor peso\u001b[39;00m\n\u001b[1;32m----> <a href='vscode-notebook-cell:/c%3A/Users/vi_mo/OneDrive/Escritorio/Transformer/Informer2020/pruebas.ipynb#W1sZmlsZQ%3D%3D?line=1'>2</a>\u001b[0m entradas \u001b[39m=\u001b[39m np\u001b[39m.\u001b[39;49mload(\u001b[39m'\u001b[39;49m\u001b[39m./results/\u001b[39;49m\u001b[39m'\u001b[39;49m\u001b[39m+\u001b[39;49msetting\u001b[39m+\u001b[39;49m\u001b[39m'\u001b[39;49m\u001b[39m/entradas.npy\u001b[39;49m\u001b[39m'\u001b[39;49m) \u001b[39m#se cargan entradas desde archivo .npy\u001b[39;00m\n\u001b[0;32m      <a href='vscode-notebook-cell:/c%3A/Users/vi_mo/OneDrive/Escritorio/Transformer/Informer2020/pruebas.ipynb#W1sZmlsZQ%3D%3D?line=2'>3</a>\u001b[0m pronóstico \u001b[39m=\u001b[39m np\u001b[39m.\u001b[39mload(\u001b[39m'\u001b[39m\u001b[39m./results/\u001b[39m\u001b[39m'\u001b[39m\u001b[39m+\u001b[39msetting\u001b[39m+\u001b[39m\u001b[39m'\u001b[39m\u001b[39m/real_prediction.npy\u001b[39m\u001b[39m'\u001b[39m) \u001b[39m#se carga pronóstico desde archivo .npy\u001b[39;00m\n\u001b[0;32m      <a href='vscode-notebook-cell:/c%3A/Users/vi_mo/OneDrive/Escritorio/Transformer/Informer2020/pruebas.ipynb#W1sZmlsZQ%3D%3D?line=3'>4</a>\u001b[0m pronóstico\u001b[39m.\u001b[39mshape\n",
      "File \u001b[1;32mc:\\Users\\vi_mo\\anaconda3\\envs\\models\\lib\\site-packages\\numpy\\lib\\npyio.py:417\u001b[0m, in \u001b[0;36mload\u001b[1;34m(file, mmap_mode, allow_pickle, fix_imports, encoding)\u001b[0m\n\u001b[0;32m    415\u001b[0m     own_fid \u001b[39m=\u001b[39m \u001b[39mFalse\u001b[39;00m\n\u001b[0;32m    416\u001b[0m \u001b[39melse\u001b[39;00m:\n\u001b[1;32m--> 417\u001b[0m     fid \u001b[39m=\u001b[39m stack\u001b[39m.\u001b[39menter_context(\u001b[39mopen\u001b[39;49m(os_fspath(file), \u001b[39m\"\u001b[39;49m\u001b[39mrb\u001b[39;49m\u001b[39m\"\u001b[39;49m))\n\u001b[0;32m    418\u001b[0m     own_fid \u001b[39m=\u001b[39m \u001b[39mTrue\u001b[39;00m\n\u001b[0;32m    420\u001b[0m \u001b[39m# Code to distinguish from NumPy binary files and pickles.\u001b[39;00m\n",
      "\u001b[1;31mFileNotFoundError\u001b[0m: [Errno 2] No such file or directory: './results/informer_custom_ftM_sl96_ll48_pl24_dm512_nh8_el2_dl1_df2048_atprob_fc5_ebtimeF_dtTrue_mxTrue_test_0/entradas.npy'"
     ]
    }
   ],
   "source": [
    "setting = 'informer_custom_ftM_sl96_ll48_pl24_dm512_nh8_el2_dl1_df2048_atprob_fc5_ebtimeF_dtTrue_mxTrue_test_0' #Nombre del experimento que contiene resultados y el mejor peso\n",
    "entradas = np.load('./results/'+setting+'/entradas.npy') #se cargan entradas desde archivo .npy\n",
    "pronóstico = np.load('./results/'+setting+'/real_prediction.npy') #se carga pronóstico desde archivo .npy\n",
    "pronóstico.shape\n",
    "v1 = list(pronóstico[0, :, 0])\n",
    "v2 = list(pronóstico[0, :, 1])\n",
    "v3 = list(pronóstico[0, :, 2])\n",
    "v4 = [v1]+[v2]+[v3]\n",
    "v4 = np.asarray(v4)\n",
    "v4 = np.transpose(v4)"
   ]
  },
  {
   "cell_type": "code",
   "execution_count": 5,
   "metadata": {},
   "outputs": [
    {
     "data": {
      "text/plain": [
       "Text(0.5, 0, 'Tiempo')"
      ]
     },
     "execution_count": 5,
     "metadata": {},
     "output_type": "execute_result"
    },
    {
     "data": {
      "image/png": "[encoded data removed]",
      "text/plain": [
       "<Figure size 432x288 with 1 Axes>"
      ]
     },
     "metadata": {},
     "output_type": "display_data"
    }
   ],
   "source": [
    "fig, ax = plt.subplots(facecolor='steelblue')\n",
    "ax.grid()\n",
    "ax.margins(x=0)\n",
    "ax.plot()\n",
    "ax.set_ylabel('Corriente')\n",
    "ax.set_xlabel('Tiempo')"
   ]
  }
 ],
 "metadata": {
  "kernelspec": {
   "display_name": "models",
   "language": "python",
   "name": "python3"
  },
  "language_info": {
   "codemirror_mode": {
    "name": "ipython",
    "version": 3
   },
   "file_extension": ".py",
   "mimetype": "text/x-python",
   "name": "python",
   "nbconvert_exporter": "python",
   "pygments_lexer": "ipython3",
   "version": "3.8.13 (default, Mar 28 2022, 06:59:08) [MSC v.1916 64 bit (AMD64)]"
  },
  "orig_nbformat": 4,
  "vscode": {
   "interpreter": {
    "hash": "b4241c3b0a7969e332a74cc2801de4e53334df11b774d78a20e7811885e80442"
   }
  }
 },
 "nbformat": 4,
 "nbformat_minor": 2
}
